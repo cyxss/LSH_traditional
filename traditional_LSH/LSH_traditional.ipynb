{
 "cells": [
  {
   "cell_type": "code",
   "execution_count": 1,
   "metadata": {
    "collapsed": true
   },
   "outputs": [],
   "source": [
    "import numpy as np\n",
    "import pandas as pd\n",
    "from sklearn import preprocessing\n",
    "from sklearn.manifold import TSNE\n",
    "from sklearn.decomposition import PCA\n",
    "import math\n",
    "import matplotlib.pyplot as plt\n",
    "import time"
   ]
  },
  {
   "cell_type": "code",
   "execution_count": 4,
   "metadata": {
    "collapsed": true
   },
   "outputs": [],
   "source": [
    "def get_reference_data(reference_path):\n",
    "    data = pd.read_excel(reference_path)# read data from the given path\n",
    "    reference_data = pd.DataFrame(np.delete(np.matrix(data),data.shape[1]-1,axis=1))\n",
    "    label = data[data.shape[1]-1] \n",
    "    return reference_data,label\n",
    "def get_query_data(query_path):\n",
    "    data = pd.read_excel(query_path)# read data from the given path\n",
    "    return query"
   ]
  },
  {
   "cell_type": "code",
   "execution_count": 5,
   "metadata": {
    "collapsed": true
   },
   "outputs": [],
   "source": [
    "def preprocess(reference_data,query):\n",
    "    #log transfrom\n",
    "    reference_data = np.log(1+reference_data)\n",
    "    query = np.log(1+query)\n",
    "    return reference_data,query"
   ]
  },
  {
   "cell_type": "code",
   "execution_count": 6,
   "metadata": {
    "collapsed": true
   },
   "outputs": [],
   "source": [
    "def p(x):\n",
    "    return math.sqrt(2/math.pi)*(x*(math.exp(-.5/x/x)-1)+math.erf(1/x))\n",
    "\n",
    "def rho(c,x):\n",
    "    return math.log(p(x))/math.log(p(c*x))\n",
    "\n",
    "def grid_search(c,grid):\n",
    "    t1 = grid[0]\n",
    "    t2 = grid[1]\n",
    "    n = int(math.log(0.01/(t2-t1))/math.log(0.618))\n",
    "    for i in range(n):\n",
    "        m1 = t2+0.618*(t1-t2)\n",
    "        m2 = t1+0.618*(t2-t1)\n",
    "        if rho(c,m1)>rho(c,m2):\n",
    "            t1  = m1\n",
    "        else:\n",
    "            t2 = m2\n",
    "    return 0.5*(t1+t2)\n",
    "\n",
    "def calculate_sigma(c):\n",
    "    grid = np.array([0,0.2])\n",
    "    sigma = 1\n",
    "    for i in range(5):\n",
    "        sigma_i = grid_search(c,grid)\n",
    "        if rho(c,sigma)>rho(c,sigma_i):\n",
    "            sigma = sigma_i\n",
    "        grid = grid+0.2\n",
    "    return sigma\n"
   ]
  },
  {
   "cell_type": "code",
   "execution_count": 7,
   "metadata": {
    "collapsed": true
   },
   "outputs": [],
   "source": [
    "def selecting_paraments(r,c,reference_shape):\n",
    "    DATA_SIZE = reference_shape[1]\n",
    "    NUM_CELL = reference_shape[0]\n",
    "\n",
    "    r_w = calculate_sigma(c)\n",
    "    W = int(r/r_w)\n",
    "    #W = r/r_w\n",
    "    # calculate p1 and p2\n",
    "    p1 = p(r_w)\n",
    "    p2 = p(c*r_w)\n",
    "    # Parameters\n",
    "    NUM_HYPERLANE = int(-math.log(NUM_CELL)/math.log(p2))+1 # the number of hyperlane used per hash fuction(k)\n",
    "    NUM_TABLE = int(math.pow(NUM_CELL,rho(c,r_w)))+1 # num of hash table l\n",
    "    return DATA_SIZE,NUM_CELL,NUM_HYPERLANE,NUM_TABLE,p1,p2,W"
   ]
  },
  {
   "cell_type": "code",
   "execution_count": 8,
   "metadata": {
    "collapsed": true
   },
   "outputs": [],
   "source": [
    "#random projection\n",
    "def random_matrix(DATA_SIZE,NUM_CELL,NUM_HYPERLANE,NUM_TABLE):\n",
    "    matrix = np.random.normal(0,1,DATA_SIZE*NUM_HYPERLANE*NUM_TABLE)\n",
    "    matrix.resize([NUM_TABLE,NUM_HYPERLANE,DATA_SIZE])\n",
    "    for i in range(NUM_TABLE):\n",
    "        for j in range(NUM_HYPERLANE):\n",
    "            matrix[i][j]=matrix[i][j]/np.linalg.norm(matrix[i][j])\n",
    "    return matrix\n",
    "\n",
    "def random_B(NUM_HYPERLANE,NUM_TABLE,W):\n",
    "    B = np.random.random(NUM_HYPERLANE*NUM_TABLE)*W\n",
    "    B.resize(NUM_TABLE,NUM_HYPERLANE)\n",
    "    return B\n",
    "\n",
    "def random_projection(reference_data,query,DATA_SIZE,NUM_CELL,NUM_HYPERLANE,NUM_TABLE,W):\n",
    "    matrix = random_matrix(DATA_SIZE,NUM_CELL,NUM_HYPERLANE,NUM_TABLE)\n",
    "    B = random_B(NUM_HYPERLANE,NUM_TABLE,W)\n",
    "    B_multi = np.tile(B,NUM_CELL).reshape([NUM_TABLE,NUM_CELL,NUM_HYPERLANE]).transpose(0,2,1)\n",
    "    #get reference hash table\n",
    "    hashvalue_reference = np.trunc((np.dot(matrix,np.transpose(reference_data))+B_multi)/W).transpose(0,2,1)\n",
    "    #get query hash value\n",
    "    hashvalue_query = np.trunc((np.dot(matrix,np.transpose(query))+B)/W)\n",
    "    \n",
    "    return hashvalue_reference,hashvalue_query"
   ]
  },
  {
   "cell_type": "code",
   "execution_count": 9,
   "metadata": {
    "collapsed": true
   },
   "outputs": [],
   "source": [
    "def search_hash_table_2(hashvalue_reference,hashvalue_query,top_hits_num,NUM_CELL,NUM_TABLE):\n",
    "    hit_num = np.zeros(NUM_CELL)\n",
    "    for i in range(NUM_TABLE):\n",
    "            deta = hashvalue_query[i]-hashvalue_reference[i]\n",
    "            hit_num = hit_num+np.trunc(sum(deta.transpose()==0))\n",
    "    top_hits_index  = np.argsort(hit_num)[NUM_CELL-top_hits_num:NUM_CELL-1]\n",
    "    top_hits_index = top_hits_index[::-1]\n",
    "    return top_hits_index,hit_num"
   ]
  },
  {
   "cell_type": "code",
   "execution_count": 10,
   "metadata": {
    "collapsed": true
   },
   "outputs": [],
   "source": [
    "def search_hash_table(hashvalue_reference,hashvalue_query,top_hits_num,NUM_CELL,NUM_TABLE):\n",
    "    hit_num = np.zeros(NUM_CELL)\n",
    "    for i in range(NUM_TABLE):\n",
    "            deta = hashvalue_query[i]-hashvalue_reference[i]\n",
    "            hit_num = hit_num+np.trunc(sum(deta.transpose())==0)#记录全匹配上的数量\n",
    "    top_hits_index  = np.argsort(hit_num)[NUM_CELL-top_hits_num:NUM_CELL-1]\n",
    "    top_hits_index = top_hits_index[::-1]\n",
    "    return top_hits_index,hit_num"
   ]
  },
  {
   "cell_type": "code",
   "execution_count": 11,
   "metadata": {
    "collapsed": true
   },
   "outputs": [],
   "source": [
    "def visualization_tsne(reference_data,query,top_hits_index):\n",
    "    tsne=TSNE()\n",
    "    tsne_result = tsne.fit_transform(np.vstack((reference_data,query)))\n",
    "    tsne_top_hits = pd.DataFrame(tsne_result[top_hits_index])\n",
    "    tsne_query = tsne_result[tsne_result.shape[0]-1]\n",
    "    tsne_result = pd.DataFrame(tsne_result)\n",
    "    plt.plot(tsne_result[0],tsne_result[1],'ko')\n",
    "    plt.plot(tsne_top_hits[0],tsne_top_hits[1],'ro')\n",
    "    plt.plot(tsne_query[0],tsne_query[1],'go')\n",
    "    plt.show()"
   ]
  },
  {
   "cell_type": "code",
   "execution_count": 19,
   "metadata": {},
   "outputs": [],
   "source": [
    "def visualization_pca(reference_data,query,top_hits_index):\n",
    "    pca = PCA(n_components=2,copy=True)\n",
    "    pca_result = pca.fit_transform(np.vstack((reference_data,query)))\n",
    "    pca_top_hits = pd.DataFrame(pca_result[top_hits_index])\n",
    "    pca_query = pca_result[pca_result.shape[0]-1]\n",
    "    pca_result = pd.DataFrame(pca_result)\n",
    "    plt.plot(pca_result[0],pca_result[1],'ko')\n",
    "    plt.plot(pca_top_hits[0],pca_top_hits[1],'ro')\n",
    "    plt.plot(pca_query[0],pca_query[1],'go')\n",
    "    plt.show()"
   ]
  },
  {
   "cell_type": "code",
   "execution_count": 93,
   "metadata": {
    "collapsed": true
   },
   "outputs": [],
   "source": [
    "def dropout_generator(percent,input_data):\n",
    "    output_data = input_data\n",
    "    for i in range(int(percent*input_data.size)):\n",
    "        x = np.random.randint(input_data.shape[0])\n",
    "        y = np.random.randint(input_data.shape[1])\n",
    "        output_data[x][y] = 0\n",
    "    return output_data"
   ]
  },
  {
   "cell_type": "code",
   "execution_count": 13,
   "metadata": {
    "collapsed": true
   },
   "outputs": [],
   "source": [
    "reference_data,label=get_reference_data('/home/chenyx/LSH/data/simu/simu_data_5000*21_2.xlsx')"
   ]
  },
  {
   "cell_type": "code",
   "execution_count": 14,
   "metadata": {
    "collapsed": true
   },
   "outputs": [],
   "source": [
    "# input \n",
    "query = reference_data.loc[0,:]\n",
    "c = 2\n",
    "r = 6"
   ]
  },
  {
   "cell_type": "code",
   "execution_count": 20,
   "metadata": {
    "scrolled": true
   },
   "outputs": [
    {
     "data": {
      "image/png": "[encoded data removed]",
      "text/plain": [
       "<matplotlib.figure.Figure at 0x7f2a89f105c0>"
      ]
     },
     "metadata": {},
     "output_type": "display_data"
    },
    {
     "name": "stdout",
     "output_type": "stream",
     "text": [
      "848     1\n",
      "666     1\n",
      "71      1\n",
      "336     1\n",
      "426     1\n",
      "1290    1\n",
      "1194    1\n",
      "800     1\n",
      "471     1\n",
      "Name: 20, dtype: int64\n"
     ]
    }
   ],
   "source": [
    "#reference_data,query = preprocess(reference_data,query)\n",
    "# select paraments\n",
    "DATA_SIZE,NUM_CELL,NUM_HYPERLANE,NUM_TABLE,p1,p2,W = selecting_paraments(r,c,reference_data.shape)\n",
    "top_hits_num = 10 # top hits number\n",
    "# random projection\n",
    "hashvalue_reference,hashvalue_query = random_projection(reference_data,query,DATA_SIZE,NUM_CELL,NUM_HYPERLANE,NUM_TABLE,W)\n",
    "# find top hits\n",
    "top_hits_index,hit_num=search_hash_table_2(hashvalue_reference,hashvalue_query,top_hits_num,NUM_CELL,NUM_TABLE)\n",
    "# visualization\n",
    "visualization_pca(reference_data,query,top_hits_index)\n",
    "print(label[top_hits_index])"
   ]
  }
 ],
 "metadata": {
  "kernelspec": {
   "display_name": "Python 3",
   "language": "python",
   "name": "python3"
  },
  "language_info": {
   "codemirror_mode": {
    "name": "ipython",
    "version": 3
   },
   "file_extension": ".py",
   "mimetype": "text/x-python",
   "name": "python",
   "nbconvert_exporter": "python",
   "pygments_lexer": "ipython3",
   "version": "3.5.4"
  }
 },
 "nbformat": 4,
 "nbformat_minor": 2
}

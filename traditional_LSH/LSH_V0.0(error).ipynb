{
 "cells": [
  {
   "cell_type": "code",
   "execution_count": null,
   "metadata": {
    "collapsed": true
   },
   "outputs": [],
   "source": [
    "import numpy as np\n",
    "import pandas as pd\n",
    "from sklearn import preprocessing\n",
    "from sklearn.manifold import TSNE\n",
    "import math\n",
    "import matplotlib.pyplot as plt"
   ]
  },
  {
   "cell_type": "code",
   "execution_count": null,
   "metadata": {
    "collapsed": true
   },
   "outputs": [],
   "source": [
    "# read the input data\n",
    "data = pd.read_excel('simu_data_200*5001.xlsx')\n",
    "# reference data\n",
    "reference_data = pd.DataFrame(np.delete(np.matrix(data),5000,axis=1))\n",
    "# label\n",
    "label = data[5000]\n",
    "# log transformation\n",
    "reference_data = np.log(1+reference_data)"
   ]
  },
  {
   "cell_type": "code",
   "execution_count": null,
   "metadata": {
    "collapsed": true
   },
   "outputs": [],
   "source": [
    "# query data\n",
    "query=np.random.normal(20,1,5000)\n",
    "# log transformation\n",
    "query=np.log(1+query)"
   ]
  },
  {
   "cell_type": "code",
   "execution_count": null,
   "metadata": {
    "collapsed": true
   },
   "outputs": [],
   "source": [
    "W = 10 # bucket size in random projection\n",
    "r_w = 0.2 # R/W\n",
    "c = 2 #the bigger c is, the smaller rho is\n",
    "\n",
    "DATA_SIZE = reference_data.shape[1]\n",
    "CELL_NUM = reference_data.shape[0]\n",
    "# calculate p1 and p2\n",
    "p1 = math.sqrt(2/math.pi)*(r_w*(math.exp(-.5/r_w/r_w)-1)+math.erf(1/r_w))\n",
    "p2 = math.sqrt(2/math.pi)*(c*r_w*(math.exp(-.5/c/r_w/c/r_w)-1)+math.erf(1/c/r_w))# Parameters\n",
    "rho = math.log(p1)/math.log(p2)\n",
    "NUM_HYPERLANE = int(-math.log(CELL_NUM)/math.log(p2))+1 # the number of hyperlane used per hash fuction(k)\n",
    "NUM_TABLE = int(math.pow(CELL_NUM,rho))+1 # num of hash table l\n",
    "# top hits number\n",
    "top_hits_num = 5"
   ]
  },
  {
   "cell_type": "code",
   "execution_count": null,
   "metadata": {
    "collapsed": true
   },
   "outputs": [],
   "source": [
    "#Quantile Normalization test(???)\n",
    "# preprocessing.quantile_transform(reference_data)"
   ]
  },
  {
   "cell_type": "code",
   "execution_count": null,
   "metadata": {
    "collapsed": true
   },
   "outputs": [],
   "source": [
    "#random projection\n",
    "matrix = np.random.random(DATA_SIZE)-0.5\n",
    "matrix = matrix/np.linalg.norm(matrix)\n",
    "for i in range(NUM_HYPERLANE-1):\n",
    "    v = np.random.random(DATA_SIZE)-0.5\n",
    "    matrix = np.vstack((matrix,v/np.linalg.norm(v)))\n",
    "B = np.random.random(NUM_HYPERLANE)*W\n",
    "B_multi = np.tile(B,CELL_NUM).reshape(CELL_NUM,B.size).transpose()"
   ]
  },
  {
   "cell_type": "code",
   "execution_count": null,
   "metadata": {
    "collapsed": true
   },
   "outputs": [],
   "source": [
    "#get hash table\n",
    "hashvalue_reference = pd.DataFrame(np.trunc((np.dot(matrix,np.transpose(reference_data))+B_multi)/W))\n",
    "#get query hash value\n",
    "hashvalue_query = pd.DataFrame(np.trunc((np.dot(matrix,np.transpose(query))+B)/W))"
   ]
  },
  {
   "cell_type": "code",
   "execution_count": null,
   "metadata": {
    "collapsed": true
   },
   "outputs": [],
   "source": [
    "#calculate the p-value\n",
    "p_table = np.zeros(CELL_NUM)\n",
    "for i in range(CELL_NUM):\n",
    "    deta = hashvalue_query-hashvalue_reference[i]\n",
    "    match_num = sum(deta==0)\n",
    "    p_table[i] = math.pow(p1,match_num)*math.pow(1-p1,NUM_HYPERLANE-match_num)\n",
    "top_hits_index  =np.argsort(-p_table)[0:top_hits_num]"
   ]
  }
 ],
 "metadata": {
  "kernelspec": {
   "display_name": "Python 3",
   "language": "python",
   "name": "python3"
  },
  "language_info": {
   "codemirror_mode": {
    "name": "ipython",
    "version": 3
   },
   "file_extension": ".py",
   "mimetype": "text/x-python",
   "name": "python",
   "nbconvert_exporter": "python",
   "pygments_lexer": "ipython3",
   "version": "3.5.4"
  }
 },
 "nbformat": 4,
 "nbformat_minor": 2
}

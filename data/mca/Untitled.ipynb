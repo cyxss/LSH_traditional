{
 "cells": [
  {
   "cell_type": "code",
   "execution_count": 1,
   "metadata": {
    "collapsed": true
   },
   "outputs": [],
   "source": [
    "import numpy as np\n",
    "import pandas as pd\n",
    "data_L1=pd.read_table('/data2t/mca/Lung1_dge.txt',delim_whitespace=True).T\n",
    "data_L2=pd.read_table('/data2t/mca/Lung2_dge.txt',delim_whitespace=True).T\n",
    "data_L3=pd.read_table('/data2t/mca/Lung3_dge.txt',delim_whitespace=True).T\n",
    "data_B1=pd.read_table('/data2t/mca/Brain1_dge.txt',delim_whitespace=True).T\n",
    "data_B2=pd.read_table('/data2t/mca/Brain2_dge.txt',delim_whitespace=True).T\n",
    "data_T1=pd.read_table('/data2t/mca/Testis1_dge.txt',delim_whitespace=True).T\n",
    "data_T2=pd.read_table('/data2t/mca/Testis2_dge.txt',delim_whitespace=True).T\n",
    "data=pd.concat([data_L1,data_L2,data_L3,data_B1,data_B2,data_T1,data_T2],join='outer')\n",
    "data=data.fillna(0)"
   ]
  },
  {
   "cell_type": "code",
   "execution_count": null,
   "metadata": {},
   "outputs": [],
   "source": [
    "data.to_excel('mca_mixture.xlsx')"
   ]
  }
 ],
 "metadata": {
  "kernelspec": {
   "display_name": "Python 3",
   "language": "python",
   "name": "python3"
  },
  "language_info": {
   "codemirror_mode": {
    "name": "ipython",
    "version": 3
   },
   "file_extension": ".py",
   "mimetype": "text/x-python",
   "name": "python",
   "nbconvert_exporter": "python",
   "pygments_lexer": "ipython3",
   "version": "3.5.4"
  }
 },
 "nbformat": 4,
 "nbformat_minor": 2
}
